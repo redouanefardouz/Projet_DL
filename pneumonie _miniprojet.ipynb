{
  "nbformat": 4,
  "nbformat_minor": 0,
  "metadata": {
    "colab": {
      "name": "pneumonie.ipynb",
      "provenance": [],
      "collapsed_sections": [],
      "toc_visible": true
    },
    "kernelspec": {
      "name": "python3",
      "display_name": "Python 3"
    },
    "accelerator": "GPU"
  },
  "cells": [
    {
      "cell_type": "markdown",
      "metadata": {
        "id": "upMoyBeSAbZD"
      },
      "source": [
        "\r\n",
        "### ![image.png](data:image/png;base64,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)\r\n",
        "\r\n"
      ]
    },
    {
      "cell_type": "markdown",
      "metadata": {
        "id": "zIY4n8lpBSnG"
      },
      "source": [
        "la  base contient ***5840*** images que j'ai  répartir à 90% et 10 % entre le jeu d'entraînement et le jeu de\r\n",
        "test c'est-à-dire que  je vais utiliser ***5220*** images pour entrainer le réseau et ***620*** pour tester s'il a bien appris ou\r\n",
        "non.\r\n"
      ]
    },
    {
      "cell_type": "code",
      "metadata": {
        "id": "3EUfnsrC_Eso",
        "colab": {
          "base_uri": "https://localhost:8080/"
        },
        "outputId": "cd55253d-7ea9-4d39-8319-6933a35b2018"
      },
      "source": [
        "from google.colab import drive\r\n",
        "drive.mount('/content/drive')"
      ],
      "execution_count": 51,
      "outputs": [
        {
          "output_type": "stream",
          "text": [
            "Drive already mounted at /content/drive; to attempt to forcibly remount, call drive.mount(\"/content/drive\", force_remount=True).\n"
          ],
          "name": "stdout"
        }
      ]
    },
    {
      "cell_type": "code",
      "metadata": {
        "id": "nrvYm75uc7QB"
      },
      "source": [
        "\r\n",
        "# Emplacement de mon ensemble de données sur Mon Google Drive \r\n",
        "image_path = \"drive/MyDrive/DATA\"\r\n",
        "image_test =\"drive/MyDrive/DATA/pnomoniaData/test\"\r\n",
        "image_train=\"drive/MyDrive/DATA/pnomoniaData/train\"\r\n"
      ],
      "execution_count": 52,
      "outputs": []
    },
    {
      "cell_type": "markdown",
      "metadata": {
        "id": "7jhNo7jhDr6i"
      },
      "source": [
        "Pour construire notre réseau de neurones à convolution, je vais  d'abord importer quelques modules de\r\n",
        "Keras\r\n",
        "\r\n",
        "---\r\n",
        "\r\n"
      ]
    },
    {
      "cell_type": "code",
      "metadata": {
        "id": "n23D_GB3a729"
      },
      "source": [
        "#chargement des modules \r\n",
        "import os\r\n",
        "import glob as gb\r\n",
        "import cv2\r\n",
        "import matplotlib.pyplot as plt\r\n",
        "import numpy as np\r\n",
        "\r\n",
        "\r\n",
        "import seaborn as sns\r\n",
        "\r\n",
        "\r\n",
        "import tensorflow as tf\r\n",
        "from keras.models import Sequential\r\n",
        "from keras.layers import Conv2D\r\n",
        "from keras.layers import MaxPooling2D\r\n",
        "from keras.layers import Flatten\r\n",
        "from keras.layers import Dense\r\n",
        "from keras.optimizers import Adam, RMSprop\r\n",
        "from keras.layers import  Dropout , BatchNormalization\r\n",
        "\r\n",
        "#import seaborn as sns\r\n",
        "#from tqdm import tqdm\r\n",
        "#from sklearn.preprocessing import OneHotEncoder\r\n",
        "from sklearn.metrics import confusion_matrix\r\n",
        "#from keras.models import Model, load_model\r\n",
        "\r\n",
        "from keras import layers\r\n",
        "from keras.applications import ResNet50\r\n",
        "\r\n",
        "from keras.preprocessing.image import ImageDataGenerator"
      ],
      "execution_count": 3,
      "outputs": []
    },
    {
      "cell_type": "code",
      "metadata": {
        "id": "88QCRzIvLo6t"
      },
      "source": [
        "\r\n",
        "INIT_LR = 1e-3  \r\n",
        "EPOCHS = 60\r\n",
        "BS =  64"
      ],
      "execution_count": 54,
      "outputs": []
    },
    {
      "cell_type": "markdown",
      "metadata": {
        "id": "OxPAOt6_Ep9s"
      },
      "source": [
        "###**Augmentation en temps réel du nombre d'image**\r\n",
        "\r\n",
        "-\r\n",
        "\r\n"
      ]
    },
    {
      "cell_type": "markdown",
      "metadata": {
        "id": "2afN75DME3Ef"
      },
      "source": [
        " Ce\r\n",
        "processus d'augmentation d'images va nous permettre d'éviter le problème de sur-apprentissage. En effet,\r\n",
        "quand on n'a pas assez de données dans mon  jeu d'entraînement, le modèle devient très fort sur le jeu\r\n",
        "d'entraînement mais il n'arrive pas vraiment à trouver les caractéristiques qui vont lui permettre de se\r\n",
        "généraliser sur le jeu de test.\r\n",
        "\r\n",
        "alors je peut utiliser la fonction ***ImageDataGenerator()*** de Keras\r\n",
        "qui permet de générer de nouvelles images à partir des images de base par application de transformations\r\n",
        "géométriques simples telles que: la rotation, la zoom, l'effet miroir, l'étirement, …etc. Grâce à cette\r\n",
        "augmentation artificielle du nombre d'images, je vais pouvoir réduire le risque de surentraînement et donc\r\n",
        "d'améliorer le  modèle.\r\n",
        "La première étape de création de nouvelles images à partir des images de base consiste à créer deux objets\r\n",
        "(générateurs) ***train_datagen*** et ***test_datagen ***grâce à la fonction ***ImageDataGenerator()***.\r\n",
        "\r\n",
        "\r\n"
      ]
    },
    {
      "cell_type": "code",
      "metadata": {
        "id": "EavybASaLxcR"
      },
      "source": [
        "# Création d'un générateur d'images pour le jeu d'entrainement\r\n",
        "train_datagen = ImageDataGenerator(\r\n",
        " rescale=1./255,\r\n",
        " shear_range=0.2,\r\n",
        " zoom_range=0.2,\r\n",
        " horizontal_flip=True)"
      ],
      "execution_count": 55,
      "outputs": []
    },
    {
      "cell_type": "code",
      "metadata": {
        "id": "xNZUlijfMOCW"
      },
      "source": [
        "# Création d'un générateur d'images pour le jeu de test\r\n",
        "test_datagen = ImageDataGenerator(rescale=1./255)"
      ],
      "execution_count": 56,
      "outputs": []
    },
    {
      "cell_type": "markdown",
      "metadata": {
        "id": "eCGSR3KAFwPa"
      },
      "source": [
        "L' étape suivante consiste à utiliser la méthode ***flow_from_directory() ***sur les objet*** train_datagen*** et\r\n",
        "***test_datagen*** pour générer de nouvelles images en temps réel à partir du jeu d'entrainement et du jeu de\r\n",
        "test. \r\n"
      ]
    },
    {
      "cell_type": "code",
      "metadata": {
        "id": "Ta03koEGMVI3",
        "colab": {
          "base_uri": "https://localhost:8080/"
        },
        "outputId": "023fb126-4ea7-48c8-dfb7-9f110788c8a8"
      },
      "source": [
        "# Chargement des images d'entrainement\r\n",
        "training_set = train_datagen.flow_from_directory(\r\n",
        " 'drive/MyDrive/DATA/pnomoniaData/train',\r\n",
        " target_size=(224, 224),\r\n",
        " batch_size=BS,\r\n",
        " class_mode='binary')\r\n",
        "\r\n",
        "# Chargement des images de test\r\n",
        "test_set = test_datagen.flow_from_directory(\r\n",
        " 'drive/MyDrive/DATA/pnomoniaData/test',\r\n",
        " target_size=(224,224), \r\n",
        " class_mode='binary')"
      ],
      "execution_count": 57,
      "outputs": [
        {
          "output_type": "stream",
          "text": [
            "Found 5286 images belonging to 2 classes.\n",
            "Found 624 images belonging to 2 classes.\n"
          ],
          "name": "stdout"
        }
      ]
    },
    {
      "cell_type": "markdown",
      "metadata": {
        "id": "5F9DHa8aGXVP"
      },
      "source": [
        "Pour construire un réseau de neurones à convolution, je vais créer un nouveau objet que je  vais  nommer\r\n",
        "***classifier*** de type Sequeltial. Cet objet va être le  réseau de neurones"
      ]
    },
    {
      "cell_type": "code",
      "metadata": {
        "id": "3-PgXWBTGWCp"
      },
      "source": [
        "# Création d'un réseau de neurones\r\n",
        "classifier = Sequential()"
      ],
      "execution_count": 58,
      "outputs": []
    },
    {
      "cell_type": "markdown",
      "metadata": {
        "id": "nMW1CIyqG-WC"
      },
      "source": [
        "###**Définition de l'architecture du** **réseau**"
      ]
    },
    {
      "cell_type": "markdown",
      "metadata": {
        "id": "7poSj9x2HR2m"
      },
      "source": [
        "Le réseau de neurones à convolution est constitué de 4 couches, la couche de Convolution, la couche de\r\n",
        "Pooling, la couche de Flattening et la couche Complétement connectée."
      ]
    },
    {
      "cell_type": "markdown",
      "metadata": {
        "id": "CR_c0SzjHd-7"
      },
      "source": [
        "### Etape 1: Convolution \r\n",
        "\r\n",
        "> \r\n",
        "\r\n"
      ]
    },
    {
      "cell_type": "markdown",
      "metadata": {
        "id": "z9-1Q0v4HuUR"
      },
      "source": [
        "La convolution consiste à appliquer un filtre (Feature Detector) sur l'image qui permet comme son nom\r\n",
        "l'indique de détecter et de ressortir des caractéristiques de l'image et la transformer en une carte de\r\n",
        "caractéristiques (Features Map)\r\n",
        "\r\n",
        "\r\n",
        "Pour réaliser ceci , je vais  utiliser la méthode **add()** sur l' objet **classifier** .\r\n",
        "Cette méthode prend en paramètre d'entrée la méthode Conv2D().\r\n"
      ]
    },
    {
      "cell_type": "code",
      "metadata": {
        "id": "tiZ6Ths2IVGZ"
      },
      "source": [
        "# Création de la couche de convolution\r\n",
        "classifier.add(Conv2D(32, (3,3), input_shape=(224,224,3), activation = 'relu')) "
      ],
      "execution_count": 44,
      "outputs": []
    },
    {
      "cell_type": "markdown",
      "metadata": {
        "id": "ERSLcyAJIbzv"
      },
      "source": [
        "###Etape 2: MaxPooling"
      ]
    },
    {
      "cell_type": "markdown",
      "metadata": {
        "id": "AXu-qtrjJf3_"
      },
      "source": [
        "Elle consiste à réduire la dimension des **Features Maps** tout en conservant les informations les plus importantes.\r\n",
        "Comme le montre l’exemple suivant, l'image est découpée en fenêtre de 2x2 pixels dans lesquelles seul le pixel\r\n",
        "de plus grande valeur sera conservé.\r\n",
        "\r\n",
        "\r\n",
        "Pour implémenter cette opération, je vais utiliser la même méthode** add()** puisque je vais \r\n",
        "rajouter une couche, sauf que cette fois je vais utiliser ala fonction **Maxpauling2D** comme paramètre\r\n",
        "d'entrée. \r\n"
      ]
    },
    {
      "cell_type": "code",
      "metadata": {
        "id": "KS7MBNc3KRPD"
      },
      "source": [
        "# Création de la couche de Pooling\r\n",
        "classifier.add(MaxPooling2D(pool_size = (2, 2))) \r\n",
        "\r\n",
        "\r\n",
        "# Ajout d'une seconde couche de convolution et de pooling\r\n",
        "classifier.add(Conv2D(64, (3, 3), activation = 'relu'))\r\n",
        "classifier.add(MaxPooling2D(pool_size = (2, 2))) \r\n",
        "\r\n",
        "# Ajout d'une seconde couche de convolution et de pooling\r\n",
        "\r\n",
        "classifier.add(Conv2D(128, (3, 3), activation = 'relu'))\r\n",
        "classifier.add(MaxPooling2D(pool_size = (2, 2))) "
      ],
      "execution_count": 29,
      "outputs": []
    },
    {
      "cell_type": "markdown",
      "metadata": {
        "id": "bYQUhpkXKdiw"
      },
      "source": [
        "###Etape 3: Flattening"
      ]
    },
    {
      "cell_type": "markdown",
      "metadata": {
        "id": "z-ATnuUKKx1u"
      },
      "source": [
        "Elle consiste à prendre toutes les valeurs de tous les Pool Features Maps en partant de en haut à\r\n",
        "gauche et de gauche à droite puis les mettre tous dans une colonne ce qui donne un vecteur énorme\r\n",
        "qui va servir de couche d'entrée d'un prochain réseau de neurones artificiels entièrement connectés. \r\n",
        "\r\n",
        "Pour implémenter cette opération , je vais  utiliser la même méthode toujours **add()**\r\n",
        "puisque je vais  rajouter une couche, sauf que cette fois je vais  utiliser  la fonction **Flatten()** comme\r\n",
        "paramètre d'entrée. \r\n"
      ]
    },
    {
      "cell_type": "code",
      "metadata": {
        "id": "CUp_QXUELMJX"
      },
      "source": [
        "# Création de la couche de Flattening\r\n",
        "classifier.add(Flatten()) \r\n"
      ],
      "execution_count": 30,
      "outputs": []
    },
    {
      "cell_type": "markdown",
      "metadata": {
        "id": "lKLds8JwLkZN"
      },
      "source": [
        "###Etape 4: Couche complétement connectée \r\n"
      ]
    },
    {
      "cell_type": "markdown",
      "metadata": {
        "id": "4SidFKzXLmT9"
      },
      "source": [
        "Puisque l'objectif est faire des prédictions alors je vais ajouter un réseau de neurones artificiels\r\n",
        "complétement connecté avec comme entrée, le vecteur de caractéristiques que j'ai obtenu après l'étape de\r\n",
        "Flattening. Le rôle de ce réseau est de trouver les combinaisons intéressantes de caractéristiques qui\r\n",
        "permettent de distinguer les images normaux et de pneumonie\r\n",
        "\r\n",
        "\r\n",
        "je vais ajouter une première couche cachée avec la\r\n",
        "méthode **add()** et **Dense()** de l'objet **classifier**"
      ]
    },
    {
      "cell_type": "code",
      "metadata": {
        "id": "jdsUwNGv6vDQ"
      },
      "source": [
        "\r\n",
        "\r\n",
        "# Création de la première couche cachée\r\n",
        "classifier.add(Dense(units = 256, activation = 'relu')) \r\n",
        "               \r\n",
        "classifier.add(Dense(units = 128, activation = 'relu')) \r\n",
        "\r\n",
        "classifier.add(Dense(units = 64, activation = 'relu')) \r\n",
        "               \r\n",
        "classifier.add(Dense(units = 16, activation = 'relu')) \r\n",
        "\r\n",
        "\r\n"
      ],
      "execution_count": 31,
      "outputs": []
    },
    {
      "cell_type": "markdown",
      "metadata": {
        "id": "GppsChD9NdXl"
      },
      "source": [
        "puisque je suis  dans le cas d'une classification\r\n",
        "binaire, je vais utiliser un seul neurone dans la couche de sortie."
      ]
    },
    {
      "cell_type": "code",
      "metadata": {
        "id": "_7qH7peaNm_u"
      },
      "source": [
        "# Création de la couche de sortie\r\n",
        "classifier.add(Dense(units = 1, activation = 'sigmoid')) \r\n"
      ],
      "execution_count": 32,
      "outputs": []
    },
    {
      "cell_type": "markdown",
      "metadata": {
        "id": "E-71ho_9N0Qk"
      },
      "source": [
        "####Définition des paramètres du réseau de neurones"
      ]
    },
    {
      "cell_type": "markdown",
      "metadata": {
        "id": "QmlkNr-mNryY"
      },
      "source": [
        "\r\n",
        "Maintenant que j'ai définit l'architecture de réseau de neurones, je vais spécifier la fonction\r\n",
        "coût et la méthode qui va permettre au réseau d'ajuster ses poids. Pour faire ceci j' utilisera la fonction\r\n",
        "**compile()** de la manière suivante:"
      ]
    },
    {
      "cell_type": "code",
      "metadata": {
        "id": "TuS_JykTOFe0"
      },
      "source": [
        "##########################\r\n",
        "#from keras.layers import Dropout\r\n",
        "#classifier.add(Dropout(0.5))\r\n",
        "#####################\r\n",
        "\r\n",
        "# Compilation du réseau de neurones\r\n",
        "classifier.compile(optimizer = 'adam', loss = 'binary_crossentropy', metrics =['accuracy']) "
      ],
      "execution_count": 33,
      "outputs": []
    },
    {
      "cell_type": "markdown",
      "metadata": {
        "id": "cm2hciOpOoeW"
      },
      "source": [
        "###Entrainement du réseau de neurones à convolution "
      ]
    },
    {
      "cell_type": "markdown",
      "metadata": {
        "id": "sWGR5NyMOwTp"
      },
      "source": [
        "Maintenant que je vais définit l'architecture et les paramètres de notre réseau de neurones, je vais \r\n",
        "passer à l'étape d'entrainement et de validation. Pour ce faire j' utilisera la méthode **fit_generator()** du\r\n",
        "**classifier**."
      ]
    },
    {
      "cell_type": "code",
      "metadata": {
        "id": "TGv7fP0WRE4s"
      },
      "source": [
        "# Création d'un réseau de neurones\r\n",
        "classifier = Sequential()\r\n",
        "\r\n",
        "# Création de la couche de convolution\r\n",
        "classifier.add(Conv2D(32, (3,3), input_shape=(224,224,3), activation = 'relu')) \r\n",
        "\r\n",
        "# Création de la couche de Pooling\r\n",
        "classifier.add(MaxPooling2D(pool_size = (2, 2))) \r\n",
        "\r\n",
        "\r\n",
        "# Ajout d'une seconde couche de convolution et de pooling\r\n",
        "classifier.add(Conv2D(64, (3, 3), activation = 'relu'))\r\n",
        "classifier.add(MaxPooling2D(pool_size = (2, 2))) \r\n",
        "\r\n",
        "# Ajout d'une seconde couche de convolution et de pooling\r\n",
        "classifier.add(Conv2D(128, (3, 3), activation = 'relu'))\r\n",
        "classifier.add(MaxPooling2D(pool_size = (2, 2))) \r\n",
        "\r\n",
        "\r\n",
        "\r\n",
        "\r\n",
        "\r\n",
        "classifier.add(Dropout(0.2))\r\n",
        "# Création de la couche de Flattening\r\n",
        "classifier.add(Flatten()) \r\n",
        "\r\n",
        "\r\n",
        "\r\n",
        "\r\n",
        "\r\n",
        "# Création de la première couche cachée\r\n",
        "classifier.add(Dense(units = 256, activation = 'relu')) \r\n",
        "               \r\n",
        "classifier.add(Dense(units = 128, activation = 'relu')) \r\n",
        "\r\n",
        "classifier.add(Dense(units = 64, activation = 'relu')) \r\n",
        "               \r\n",
        "classifier.add(Dense(units = 16, activation = 'relu')) \r\n",
        "\r\n",
        "# Création de la couche de sortie\r\n",
        "classifier.add(Dense(units = 1, activation = 'sigmoid')) \r\n",
        "\r\n",
        "# Compilation du réseau de neurones\r\n",
        "classifier.compile(optimizer = 'adam', loss = 'binary_crossentropy', metrics =['accuracy']) "
      ],
      "execution_count": 59,
      "outputs": []
    },
    {
      "cell_type": "code",
      "metadata": {
        "id": "NR8TIm5OrXMR",
        "colab": {
          "base_uri": "https://localhost:8080/"
        },
        "outputId": "261257e0-888d-4ff1-84a7-b48770cb25ea"
      },
      "source": [
        "\r\n",
        "history =classifier.fit(training_set,epochs =60,validation_data = test_set\r\n",
        "\r\n",
        "                        ) \r\n",
        "\r\n",
        "\r\n",
        "#,callbacks=[early_stopping]\r\n"
      ],
      "execution_count": 63,
      "outputs": [
        {
          "output_type": "stream",
          "text": [
            "Epoch 1/60\n",
            "83/83 [==============================] - 112s 1s/step - loss: 0.0869 - accuracy: 0.9684 - val_loss: 0.4621 - val_accuracy: 0.8718\n",
            "Epoch 2/60\n",
            "83/83 [==============================] - 111s 1s/step - loss: 0.0793 - accuracy: 0.9733 - val_loss: 0.3950 - val_accuracy: 0.9071\n",
            "Epoch 3/60\n",
            "83/83 [==============================] - 110s 1s/step - loss: 0.0740 - accuracy: 0.9735 - val_loss: 0.5065 - val_accuracy: 0.8750\n",
            "Epoch 4/60\n",
            "83/83 [==============================] - 109s 1s/step - loss: 0.0759 - accuracy: 0.9703 - val_loss: 0.3935 - val_accuracy: 0.9071\n",
            "Epoch 5/60\n",
            "83/83 [==============================] - 110s 1s/step - loss: 0.0777 - accuracy: 0.9694 - val_loss: 0.5016 - val_accuracy: 0.9054\n",
            "Epoch 6/60\n",
            "83/83 [==============================] - 110s 1s/step - loss: 0.0777 - accuracy: 0.9695 - val_loss: 0.3468 - val_accuracy: 0.9183\n",
            "Epoch 7/60\n",
            "83/83 [==============================] - 110s 1s/step - loss: 0.0754 - accuracy: 0.9718 - val_loss: 0.3331 - val_accuracy: 0.9215\n",
            "Epoch 8/60\n",
            "83/83 [==============================] - 110s 1s/step - loss: 0.0718 - accuracy: 0.9733 - val_loss: 0.3688 - val_accuracy: 0.9054\n",
            "Epoch 9/60\n",
            "83/83 [==============================] - 110s 1s/step - loss: 0.0799 - accuracy: 0.9678 - val_loss: 0.4218 - val_accuracy: 0.9038\n",
            "Epoch 10/60\n",
            "83/83 [==============================] - 109s 1s/step - loss: 0.0755 - accuracy: 0.9731 - val_loss: 0.3438 - val_accuracy: 0.9183\n",
            "Epoch 11/60\n",
            "83/83 [==============================] - 109s 1s/step - loss: 0.0663 - accuracy: 0.9767 - val_loss: 0.4222 - val_accuracy: 0.8926\n",
            "Epoch 12/60\n",
            "83/83 [==============================] - 109s 1s/step - loss: 0.0751 - accuracy: 0.9709 - val_loss: 0.4959 - val_accuracy: 0.8926\n",
            "Epoch 13/60\n",
            "83/83 [==============================] - 109s 1s/step - loss: 0.0685 - accuracy: 0.9754 - val_loss: 0.4741 - val_accuracy: 0.8990\n",
            "Epoch 14/60\n",
            "83/83 [==============================] - 109s 1s/step - loss: 0.0653 - accuracy: 0.9745 - val_loss: 0.4973 - val_accuracy: 0.8926\n",
            "Epoch 15/60\n",
            "83/83 [==============================] - 108s 1s/step - loss: 0.0667 - accuracy: 0.9771 - val_loss: 0.4100 - val_accuracy: 0.9167\n",
            "Epoch 16/60\n",
            "83/83 [==============================] - 108s 1s/step - loss: 0.0630 - accuracy: 0.9758 - val_loss: 0.4244 - val_accuracy: 0.9038\n",
            "Epoch 17/60\n",
            "83/83 [==============================] - 108s 1s/step - loss: 0.0652 - accuracy: 0.9765 - val_loss: 0.3478 - val_accuracy: 0.9263\n",
            "Epoch 18/60\n",
            "83/83 [==============================] - 108s 1s/step - loss: 0.0612 - accuracy: 0.9788 - val_loss: 0.3425 - val_accuracy: 0.9279\n",
            "Epoch 19/60\n",
            "83/83 [==============================] - 108s 1s/step - loss: 0.0559 - accuracy: 0.9788 - val_loss: 0.3705 - val_accuracy: 0.9215\n",
            "Epoch 20/60\n",
            "83/83 [==============================] - 107s 1s/step - loss: 0.0629 - accuracy: 0.9762 - val_loss: 0.3167 - val_accuracy: 0.9199\n",
            "Epoch 21/60\n",
            "83/83 [==============================] - 107s 1s/step - loss: 0.0666 - accuracy: 0.9748 - val_loss: 0.3502 - val_accuracy: 0.9151\n",
            "Epoch 22/60\n",
            "83/83 [==============================] - 108s 1s/step - loss: 0.0637 - accuracy: 0.9752 - val_loss: 0.3292 - val_accuracy: 0.9199\n",
            "Epoch 23/60\n",
            "83/83 [==============================] - 107s 1s/step - loss: 0.0600 - accuracy: 0.9775 - val_loss: 0.2592 - val_accuracy: 0.9311\n",
            "Epoch 24/60\n",
            "83/83 [==============================] - 108s 1s/step - loss: 0.0518 - accuracy: 0.9811 - val_loss: 0.3272 - val_accuracy: 0.9087\n",
            "Epoch 25/60\n",
            "83/83 [==============================] - 108s 1s/step - loss: 0.0576 - accuracy: 0.9782 - val_loss: 0.3650 - val_accuracy: 0.9054\n",
            "Epoch 26/60\n",
            "83/83 [==============================] - 108s 1s/step - loss: 0.0505 - accuracy: 0.9837 - val_loss: 0.4115 - val_accuracy: 0.9006\n",
            "Epoch 27/60\n",
            "83/83 [==============================] - 108s 1s/step - loss: 0.0554 - accuracy: 0.9805 - val_loss: 0.3623 - val_accuracy: 0.9231\n",
            "Epoch 28/60\n",
            "83/83 [==============================] - 108s 1s/step - loss: 0.0548 - accuracy: 0.9777 - val_loss: 0.3876 - val_accuracy: 0.9183\n",
            "Epoch 29/60\n",
            "83/83 [==============================] - 107s 1s/step - loss: 0.0546 - accuracy: 0.9775 - val_loss: 0.3988 - val_accuracy: 0.8958\n",
            "Epoch 30/60\n",
            "83/83 [==============================] - 108s 1s/step - loss: 0.0462 - accuracy: 0.9830 - val_loss: 0.4895 - val_accuracy: 0.8942\n",
            "Epoch 31/60\n",
            "83/83 [==============================] - 108s 1s/step - loss: 0.0482 - accuracy: 0.9835 - val_loss: 0.3413 - val_accuracy: 0.9231\n",
            "Epoch 32/60\n",
            "83/83 [==============================] - 106s 1s/step - loss: 0.0573 - accuracy: 0.9794 - val_loss: 0.3205 - val_accuracy: 0.9167\n",
            "Epoch 33/60\n",
            "83/83 [==============================] - 107s 1s/step - loss: 0.0552 - accuracy: 0.9824 - val_loss: 0.3089 - val_accuracy: 0.9103\n",
            "Epoch 34/60\n",
            "83/83 [==============================] - 106s 1s/step - loss: 0.0532 - accuracy: 0.9809 - val_loss: 0.4182 - val_accuracy: 0.8846\n",
            "Epoch 35/60\n",
            "83/83 [==============================] - 105s 1s/step - loss: 0.0481 - accuracy: 0.9832 - val_loss: 0.3779 - val_accuracy: 0.9135\n",
            "Epoch 36/60\n",
            "83/83 [==============================] - 106s 1s/step - loss: 0.0553 - accuracy: 0.9799 - val_loss: 0.3172 - val_accuracy: 0.9199\n",
            "Epoch 37/60\n",
            "83/83 [==============================] - 106s 1s/step - loss: 0.0479 - accuracy: 0.9822 - val_loss: 0.3274 - val_accuracy: 0.9311\n",
            "Epoch 38/60\n",
            "83/83 [==============================] - 110s 1s/step - loss: 0.0482 - accuracy: 0.9822 - val_loss: 0.4669 - val_accuracy: 0.9295\n",
            "Epoch 39/60\n",
            "83/83 [==============================] - 109s 1s/step - loss: 0.0566 - accuracy: 0.9786 - val_loss: 0.4804 - val_accuracy: 0.9022\n",
            "Epoch 40/60\n",
            "83/83 [==============================] - 107s 1s/step - loss: 0.0433 - accuracy: 0.9851 - val_loss: 0.3430 - val_accuracy: 0.9263\n",
            "Epoch 41/60\n",
            "83/83 [==============================] - 107s 1s/step - loss: 0.0420 - accuracy: 0.9832 - val_loss: 0.5194 - val_accuracy: 0.9247\n",
            "Epoch 42/60\n",
            "83/83 [==============================] - 106s 1s/step - loss: 0.0411 - accuracy: 0.9854 - val_loss: 0.5102 - val_accuracy: 0.9054\n",
            "Epoch 43/60\n",
            "83/83 [==============================] - 105s 1s/step - loss: 0.0491 - accuracy: 0.9841 - val_loss: 0.3245 - val_accuracy: 0.9215\n",
            "Epoch 44/60\n",
            "83/83 [==============================] - 105s 1s/step - loss: 0.0464 - accuracy: 0.9837 - val_loss: 0.4229 - val_accuracy: 0.8862\n",
            "Epoch 45/60\n",
            "83/83 [==============================] - 106s 1s/step - loss: 0.0473 - accuracy: 0.9830 - val_loss: 0.4719 - val_accuracy: 0.8894\n",
            "Epoch 46/60\n",
            "83/83 [==============================] - 105s 1s/step - loss: 0.0402 - accuracy: 0.9851 - val_loss: 0.3906 - val_accuracy: 0.9295\n",
            "Epoch 47/60\n",
            "83/83 [==============================] - 105s 1s/step - loss: 0.0463 - accuracy: 0.9822 - val_loss: 0.3430 - val_accuracy: 0.9247\n",
            "Epoch 48/60\n",
            "83/83 [==============================] - 106s 1s/step - loss: 0.0371 - accuracy: 0.9860 - val_loss: 0.3661 - val_accuracy: 0.9183\n",
            "Epoch 49/60\n",
            "83/83 [==============================] - 105s 1s/step - loss: 0.0511 - accuracy: 0.9818 - val_loss: 0.2730 - val_accuracy: 0.9343\n",
            "Epoch 50/60\n",
            "83/83 [==============================] - 105s 1s/step - loss: 0.0387 - accuracy: 0.9856 - val_loss: 0.3891 - val_accuracy: 0.9343\n",
            "Epoch 51/60\n",
            "83/83 [==============================] - 105s 1s/step - loss: 0.0460 - accuracy: 0.9832 - val_loss: 0.3914 - val_accuracy: 0.9215\n",
            "Epoch 52/60\n",
            "83/83 [==============================] - 105s 1s/step - loss: 0.0371 - accuracy: 0.9875 - val_loss: 0.3679 - val_accuracy: 0.9006\n",
            "Epoch 53/60\n",
            "83/83 [==============================] - 105s 1s/step - loss: 0.0420 - accuracy: 0.9847 - val_loss: 0.3132 - val_accuracy: 0.9279\n",
            "Epoch 54/60\n",
            "83/83 [==============================] - 106s 1s/step - loss: 0.0344 - accuracy: 0.9875 - val_loss: 0.4752 - val_accuracy: 0.9071\n",
            "Epoch 55/60\n",
            "83/83 [==============================] - 105s 1s/step - loss: 0.0452 - accuracy: 0.9854 - val_loss: 0.3866 - val_accuracy: 0.9135\n",
            "Epoch 56/60\n",
            "83/83 [==============================] - 105s 1s/step - loss: 0.0399 - accuracy: 0.9847 - val_loss: 0.3064 - val_accuracy: 0.9311\n",
            "Epoch 57/60\n",
            "83/83 [==============================] - 106s 1s/step - loss: 0.0363 - accuracy: 0.9873 - val_loss: 0.4404 - val_accuracy: 0.8974\n",
            "Epoch 58/60\n",
            "83/83 [==============================] - 105s 1s/step - loss: 0.0386 - accuracy: 0.9871 - val_loss: 0.5431 - val_accuracy: 0.8558\n",
            "Epoch 59/60\n",
            "83/83 [==============================] - 105s 1s/step - loss: 0.0424 - accuracy: 0.9845 - val_loss: 0.4156 - val_accuracy: 0.9054\n",
            "Epoch 60/60\n",
            "83/83 [==============================] - 105s 1s/step - loss: 0.0417 - accuracy: 0.9839 - val_loss: 0.4023 - val_accuracy: 0.9006\n"
          ],
          "name": "stdout"
        }
      ]
    },
    {
      "cell_type": "markdown",
      "metadata": {
        "id": "fT5RYxcySN1K"
      },
      "source": [
        "Les résultats montre qu'on a une précision de 90% sur le jeu \r\n",
        " de test . En générale lorsqu'on construit un\r\n",
        "réseau de neurones, ce qui est  intéraisant  vraiment c'est sa précision sur le jeu de test c'est à dire sa capacité à\r\n",
        "généraliser ses prédictions sur de nouvelles données\r\n",
        "\r\n",
        "---\r\n",
        "\r\n",
        "---\r\n",
        "\r\n",
        "\r\n",
        "\r\n"
      ]
    },
    {
      "cell_type": "markdown",
      "metadata": {
        "id": "CGAMTDhTsIAj"
      },
      "source": [
        "###**Visualisation du modéle** "
      ]
    },
    {
      "cell_type": "code",
      "metadata": {
        "colab": {
          "base_uri": "https://localhost:8080/",
          "height": 238
        },
        "id": "ydOGbWVUrmIH",
        "outputId": "a60ceaaa-babb-4ddc-f6a2-c1d07f64c39c"
      },
      "source": [
        "import matplotlib.pyplot as plt\r\n",
        "plt.plot(history.history['loss'])\r\n",
        "plt.plot(history.history['val_loss'])\r\n",
        "plt.title('model loss')\r\n",
        "plt.ylabel('loss')\r\n",
        "plt.xlabel('epoch')\r\n",
        "plt.legend(['train', 'validation'], loc='upper left')\r\n",
        "plt.show()"
      ],
      "execution_count": 19,
      "outputs": [
        {
          "output_type": "error",
          "ename": "NameError",
          "evalue": "ignored",
          "traceback": [
            "\u001b[0;31m---------------------------------------------------------------------------\u001b[0m",
            "\u001b[0;31mNameError\u001b[0m                                 Traceback (most recent call last)",
            "\u001b[0;32m<ipython-input-19-be8f10194c13>\u001b[0m in \u001b[0;36m<module>\u001b[0;34m()\u001b[0m\n\u001b[1;32m      1\u001b[0m \u001b[0;32mimport\u001b[0m \u001b[0mmatplotlib\u001b[0m\u001b[0;34m.\u001b[0m\u001b[0mpyplot\u001b[0m \u001b[0;32mas\u001b[0m \u001b[0mplt\u001b[0m\u001b[0;34m\u001b[0m\u001b[0;34m\u001b[0m\u001b[0m\n\u001b[0;32m----> 2\u001b[0;31m \u001b[0mplt\u001b[0m\u001b[0;34m.\u001b[0m\u001b[0mplot\u001b[0m\u001b[0;34m(\u001b[0m\u001b[0mhistory\u001b[0m\u001b[0;34m.\u001b[0m\u001b[0mhistory\u001b[0m\u001b[0;34m[\u001b[0m\u001b[0;34m'loss'\u001b[0m\u001b[0;34m]\u001b[0m\u001b[0;34m)\u001b[0m\u001b[0;34m\u001b[0m\u001b[0;34m\u001b[0m\u001b[0m\n\u001b[0m\u001b[1;32m      3\u001b[0m \u001b[0mplt\u001b[0m\u001b[0;34m.\u001b[0m\u001b[0mplot\u001b[0m\u001b[0;34m(\u001b[0m\u001b[0mhistory\u001b[0m\u001b[0;34m.\u001b[0m\u001b[0mhistory\u001b[0m\u001b[0;34m[\u001b[0m\u001b[0;34m'val_loss'\u001b[0m\u001b[0;34m]\u001b[0m\u001b[0;34m)\u001b[0m\u001b[0;34m\u001b[0m\u001b[0;34m\u001b[0m\u001b[0m\n\u001b[1;32m      4\u001b[0m \u001b[0mplt\u001b[0m\u001b[0;34m.\u001b[0m\u001b[0mtitle\u001b[0m\u001b[0;34m(\u001b[0m\u001b[0;34m'model loss'\u001b[0m\u001b[0;34m)\u001b[0m\u001b[0;34m\u001b[0m\u001b[0;34m\u001b[0m\u001b[0m\n\u001b[1;32m      5\u001b[0m \u001b[0mplt\u001b[0m\u001b[0;34m.\u001b[0m\u001b[0mylabel\u001b[0m\u001b[0;34m(\u001b[0m\u001b[0;34m'loss'\u001b[0m\u001b[0;34m)\u001b[0m\u001b[0;34m\u001b[0m\u001b[0;34m\u001b[0m\u001b[0m\n",
            "\u001b[0;31mNameError\u001b[0m: name 'history' is not defined"
          ]
        }
      ]
    },
    {
      "cell_type": "code",
      "metadata": {
        "id": "GE1ipORN4lBG"
      },
      "source": [
        "plt.plot(history.history['accuracy'])\r\n",
        "plt.plot(history.history['val_accuracy'])\r\n",
        "plt.title('model auccuracy')\r\n",
        "plt.ylabel('loss')\r\n",
        "plt.xlabel('epoch')\r\n",
        "plt.legend(['train', 'validation'], loc='upper left')\r\n",
        "plt.show()"
      ],
      "execution_count": null,
      "outputs": []
    },
    {
      "cell_type": "markdown",
      "metadata": {
        "id": "NNjJe2mFRnk8"
      },
      "source": [
        "Une fois que le  réseau classifier entraîné, on peut faire les prédictions. Il suffit d'utiliser **predict()** du\r\n",
        "classifier sur l'une des images qui se trouve dans le dossier 'drive/MyDrive/DATA/pnomoniaData/train/..'.\r\n",
        "\r\n",
        " puis on prend  une photo d'un personne normal  et une photo d'un personne attient une pneumonie  puis  on essaie de prédire lequel est un personne normal  et lequel est un personne atteint le pneumonie \r\n",
        "avec le modèle de réseau de neurones à convolution que j'ai  construit.\r\n"
      ]
    },
    {
      "cell_type": "code",
      "metadata": {
        "id": "da4Y1lfFvX0A"
      },
      "source": [
        "import numpy as np\r\n",
        "from keras.preprocessing import image\r\n",
        "# Chargement de l'image\r\n",
        "test_image = image.load_img('drive/MyDrive/DATA/pnomoniaData/train/PNOM/person1308_virus_2252.jpeg',\r\n",
        " target_size = (224, 224))\r\n",
        "# Transformation de l'image en une matrice et normalisation des pixels\r\n",
        "test_image = image.img_to_array(test_image)\r\n",
        "# Faire apparaitre la troisième dimension\r\n",
        "test_image = np.expand_dims(test_image, axis = 0)\r\n",
        "# Prédiction  \r\n",
        "result = classifier.predict(test_image)\r\n",
        "# Affichage de l'indice de classe\r\n",
        "training_set.class_indices\r\n",
        "if result[0][0] > 0.5:\r\n",
        " \tprediction = ' pnomonia'\r\n",
        "else:\r\n",
        "\tprediction = 'normal' \r\n",
        "\r\n",
        "#realisation\r\n",
        "print(prediction) \r\n",
        "\r\n",
        "\r\n",
        "\r\n",
        "\r\n",
        "\r\n",
        "\r\n",
        "\r\n"
      ],
      "execution_count": null,
      "outputs": []
    },
    {
      "cell_type": "markdown",
      "metadata": {
        "id": "QVdA2ZT5wQjq"
      },
      "source": [
        "###**Modele VGG16**"
      ]
    },
    {
      "cell_type": "code",
      "metadata": {
        "colab": {
          "base_uri": "https://localhost:8080/"
        },
        "id": "C5GuTo1ShbM0",
        "outputId": "144ea40a-a178-4bda-dcff-bf4ef59f8f10"
      },
      "source": [
        "batch_size = 128\r\n",
        "epochs = 35\r\n",
        "image_size = (300,300)\r\n",
        "test_size = 0.2\r\n",
        "\r\n",
        "\r\n",
        "\r\n",
        "train_datagen = ImageDataGenerator(rescale = 1/255,\r\n",
        "                                 rotation_range = 30,\r\n",
        "                                 zoom_range = 0.2,\r\n",
        "                                 width_shift_range = 0.1,\r\n",
        "                                 height_shift_range = 0.1)\r\n",
        "test_datagen = ImageDataGenerator(rescale = 1/255)\r\n",
        "\r\n",
        "\r\n",
        "\r\n",
        "\r\n",
        "# Chargement des images d'entrainement\r\n",
        "training_sett = train_datagen.flow_from_directory(\r\n",
        " 'drive/MyDrive/DATA/pnomoniaData/train',\r\n",
        " target_size=(300, 300),\r\n",
        " batch_size=batch_size,\r\n",
        " class_mode='binary')\r\n",
        "\r\n",
        "# Chargement des images de test\r\n",
        "test_sett = test_datagen.flow_from_directory(\r\n",
        " 'drive/MyDrive/DATA/pnomoniaData/test',\r\n",
        " target_size=(300, 300),\r\n",
        " batch_size=batch_size,\r\n",
        " class_mode='binary')"
      ],
      "execution_count": 5,
      "outputs": [
        {
          "output_type": "stream",
          "text": [
            "Found 5286 images belonging to 2 classes.\n",
            "Found 624 images belonging to 2 classes.\n"
          ],
          "name": "stdout"
        }
      ]
    },
    {
      "cell_type": "code",
      "metadata": {
        "colab": {
          "base_uri": "https://localhost:8080/"
        },
        "id": "ETCgps_Hb7sB",
        "outputId": "7b4cac47-df06-4351-b0d3-894242430553"
      },
      "source": [
        "base_model1 = tf.keras.applications.VGG16(input_shape=(300, 300, 3),include_top=False, weights='imagenet')\r\n",
        "base_model1.trainable = False\r\n",
        "\r\n",
        "\r\n",
        "model1 = tf.keras.Sequential([\r\n",
        "        base_model1,\r\n",
        "        tf.keras.layers.Flatten(),\r\n",
        "        tf.keras.layers.Dense(512, activation=tf.nn.relu),\r\n",
        "        tf.keras.layers.Dropout(0.2),\r\n",
        "        tf.keras.layers.Dense(512, activation=tf.nn.relu),\r\n",
        "        tf.keras.layers.Dropout(0.2),\r\n",
        "        tf.keras.layers.Dense(1,activation=tf.nn.sigmoid)\r\n",
        "        ])\r\n",
        "\r\n",
        "model1.compile(loss='binary_crossentropy', optimizer=RMSprop(lr=0.001), metrics = ['accuracy'])\r\n",
        "model1.summary()"
      ],
      "execution_count": 6,
      "outputs": [
        {
          "output_type": "stream",
          "text": [
            "Model: \"sequential\"\n",
            "_________________________________________________________________\n",
            "Layer (type)                 Output Shape              Param #   \n",
            "=================================================================\n",
            "vgg16 (Functional)           (None, 9, 9, 512)         14714688  \n",
            "_________________________________________________________________\n",
            "flatten (Flatten)            (None, 41472)             0         \n",
            "_________________________________________________________________\n",
            "dense (Dense)                (None, 512)               21234176  \n",
            "_________________________________________________________________\n",
            "dropout (Dropout)            (None, 512)               0         \n",
            "_________________________________________________________________\n",
            "dense_1 (Dense)              (None, 512)               262656    \n",
            "_________________________________________________________________\n",
            "dropout_1 (Dropout)          (None, 512)               0         \n",
            "_________________________________________________________________\n",
            "dense_2 (Dense)              (None, 1)                 513       \n",
            "=================================================================\n",
            "Total params: 36,212,033\n",
            "Trainable params: 21,497,345\n",
            "Non-trainable params: 14,714,688\n",
            "_________________________________________________________________\n"
          ],
          "name": "stdout"
        }
      ]
    },
    {
      "cell_type": "code",
      "metadata": {
        "id": "5OBwh9a_ceJI"
      },
      "source": [
        "# Fit Model\r\n",
        "checkpoint_cb1 = tf.keras.callbacks.ModelCheckpoint(\"model1_vgg.h5\",\r\n",
        "                                                    save_best_only=True)\r\n",
        "\r\n",
        "early_stopping_cb1 = tf.keras.callbacks.EarlyStopping(monitor ='val_loss', patience=20, mode = 'min',restore_best_weights=True)\r\n"
      ],
      "execution_count": 7,
      "outputs": []
    },
    {
      "cell_type": "code",
      "metadata": {
        "colab": {
          "base_uri": "https://localhost:8080/"
        },
        "id": "D-rDsYq8fxnn",
        "outputId": "dc64d202-1b2f-4f18-89bd-a959914b6612"
      },
      "source": [
        "batch_size = 128\r\n",
        "epochs = 35\r\n",
        "image_size = (300,300)\r\n",
        "test_size = 0.2\r\n",
        "\r\n",
        "\r\n",
        "history1 = model1.fit(\r\n",
        "    training_sett,\r\n",
        "    steps_per_epoch = 10,\r\n",
        "    epochs = epochs,\r\n",
        "    validation_data = test_sett,\r\n",
        "    callbacks = [checkpoint_cb1, early_stopping_cb1]\r\n",
        ")\r\n"
      ],
      "execution_count": 9,
      "outputs": [
        {
          "output_type": "stream",
          "text": [
            "Epoch 1/35\n",
            "10/10 [==============================] - 56s 6s/step - loss: 17.7354 - accuracy: 0.6001 - val_loss: 1.6393 - val_accuracy: 0.6250\n",
            "Epoch 2/35\n",
            "10/10 [==============================] - 46s 5s/step - loss: 1.0588 - accuracy: 0.7382 - val_loss: 0.5064 - val_accuracy: 0.7788\n",
            "Epoch 3/35\n",
            "10/10 [==============================] - 48s 5s/step - loss: 0.6225 - accuracy: 0.7834 - val_loss: 0.4198 - val_accuracy: 0.8173\n",
            "Epoch 4/35\n",
            "10/10 [==============================] - 48s 5s/step - loss: 0.4196 - accuracy: 0.8337 - val_loss: 1.3870 - val_accuracy: 0.6250\n",
            "Epoch 5/35\n",
            "10/10 [==============================] - 48s 5s/step - loss: 0.6131 - accuracy: 0.7607 - val_loss: 0.3102 - val_accuracy: 0.8718\n",
            "Epoch 6/35\n",
            "10/10 [==============================] - 48s 5s/step - loss: 0.3351 - accuracy: 0.8829 - val_loss: 0.3275 - val_accuracy: 0.8558\n",
            "Epoch 7/35\n",
            "10/10 [==============================] - 48s 5s/step - loss: 0.2614 - accuracy: 0.8948 - val_loss: 0.5812 - val_accuracy: 0.7051\n",
            "Epoch 8/35\n",
            "10/10 [==============================] - 48s 5s/step - loss: 0.3776 - accuracy: 0.8283 - val_loss: 0.3873 - val_accuracy: 0.8686\n",
            "Epoch 9/35\n",
            "10/10 [==============================] - 48s 5s/step - loss: 0.2504 - accuracy: 0.8932 - val_loss: 0.3041 - val_accuracy: 0.8702\n",
            "Epoch 10/35\n",
            "10/10 [==============================] - 45s 5s/step - loss: 0.4685 - accuracy: 0.8444 - val_loss: 0.2892 - val_accuracy: 0.8846\n",
            "Epoch 11/35\n",
            "10/10 [==============================] - 47s 5s/step - loss: 0.2390 - accuracy: 0.9109 - val_loss: 0.6177 - val_accuracy: 0.7596\n",
            "Epoch 12/35\n",
            "10/10 [==============================] - 45s 5s/step - loss: 0.2698 - accuracy: 0.8861 - val_loss: 0.2902 - val_accuracy: 0.8638\n",
            "Epoch 13/35\n",
            "10/10 [==============================] - 48s 5s/step - loss: 0.2427 - accuracy: 0.8959 - val_loss: 0.2704 - val_accuracy: 0.8894\n",
            "Epoch 14/35\n",
            "10/10 [==============================] - 48s 5s/step - loss: 0.2271 - accuracy: 0.9126 - val_loss: 0.3221 - val_accuracy: 0.8686\n",
            "Epoch 15/35\n",
            "10/10 [==============================] - 48s 5s/step - loss: 0.2539 - accuracy: 0.9056 - val_loss: 0.2544 - val_accuracy: 0.8974\n",
            "Epoch 16/35\n",
            "10/10 [==============================] - 46s 5s/step - loss: 0.2212 - accuracy: 0.9095 - val_loss: 0.4205 - val_accuracy: 0.8237\n",
            "Epoch 17/35\n",
            "10/10 [==============================] - 48s 5s/step - loss: 0.1989 - accuracy: 0.9237 - val_loss: 0.2502 - val_accuracy: 0.8910\n",
            "Epoch 18/35\n",
            "10/10 [==============================] - 48s 5s/step - loss: 0.2889 - accuracy: 0.9128 - val_loss: 0.2918 - val_accuracy: 0.8798\n",
            "Epoch 19/35\n",
            "10/10 [==============================] - 48s 5s/step - loss: 0.1984 - accuracy: 0.9345 - val_loss: 0.2312 - val_accuracy: 0.9087\n",
            "Epoch 20/35\n",
            "10/10 [==============================] - 49s 5s/step - loss: 0.2336 - accuracy: 0.9136 - val_loss: 0.2571 - val_accuracy: 0.9119\n",
            "Epoch 21/35\n",
            "10/10 [==============================] - 49s 5s/step - loss: 0.1917 - accuracy: 0.9243 - val_loss: 0.2294 - val_accuracy: 0.9071\n",
            "Epoch 22/35\n",
            "10/10 [==============================] - 50s 5s/step - loss: 0.1963 - accuracy: 0.9322 - val_loss: 0.3384 - val_accuracy: 0.8462\n",
            "Epoch 23/35\n",
            "10/10 [==============================] - 49s 5s/step - loss: 0.2633 - accuracy: 0.8974 - val_loss: 0.3194 - val_accuracy: 0.8606\n",
            "Epoch 24/35\n",
            "10/10 [==============================] - 49s 5s/step - loss: 0.1908 - accuracy: 0.9209 - val_loss: 0.2777 - val_accuracy: 0.9038\n",
            "Epoch 25/35\n",
            "10/10 [==============================] - 46s 5s/step - loss: 0.1668 - accuracy: 0.9336 - val_loss: 0.2484 - val_accuracy: 0.9038\n",
            "Epoch 26/35\n",
            "10/10 [==============================] - 49s 5s/step - loss: 0.1713 - accuracy: 0.9342 - val_loss: 0.2410 - val_accuracy: 0.9071\n",
            "Epoch 27/35\n",
            "10/10 [==============================] - 50s 5s/step - loss: 0.2004 - accuracy: 0.9165 - val_loss: 0.2191 - val_accuracy: 0.9183\n",
            "Epoch 28/35\n",
            "10/10 [==============================] - 49s 5s/step - loss: 0.1705 - accuracy: 0.9232 - val_loss: 0.3094 - val_accuracy: 0.9199\n",
            "Epoch 29/35\n",
            "10/10 [==============================] - 49s 5s/step - loss: 0.2177 - accuracy: 0.9284 - val_loss: 0.2151 - val_accuracy: 0.9135\n",
            "Epoch 30/35\n",
            "10/10 [==============================] - 49s 5s/step - loss: 0.1213 - accuracy: 0.9533 - val_loss: 0.3791 - val_accuracy: 0.8670\n",
            "Epoch 31/35\n",
            "10/10 [==============================] - 46s 5s/step - loss: 0.1967 - accuracy: 0.9285 - val_loss: 0.2669 - val_accuracy: 0.9038\n",
            "Epoch 32/35\n",
            "10/10 [==============================] - 49s 5s/step - loss: 0.1461 - accuracy: 0.9479 - val_loss: 0.2105 - val_accuracy: 0.9183\n",
            "Epoch 33/35\n",
            "10/10 [==============================] - 46s 5s/step - loss: 0.1216 - accuracy: 0.9607 - val_loss: 0.1982 - val_accuracy: 0.9231\n",
            "Epoch 34/35\n",
            "10/10 [==============================] - 48s 5s/step - loss: 0.2178 - accuracy: 0.9349 - val_loss: 0.4686 - val_accuracy: 0.8253\n",
            "Epoch 35/35\n",
            "10/10 [==============================] - 48s 5s/step - loss: 0.2224 - accuracy: 0.9126 - val_loss: 0.2346 - val_accuracy: 0.9151\n"
          ],
          "name": "stdout"
        }
      ]
    },
    {
      "cell_type": "markdown",
      "metadata": {
        "id": "yBe0f-Qi9ymD"
      },
      "source": [
        "###**Visaualisation du modele VGG-16**"
      ]
    },
    {
      "cell_type": "code",
      "metadata": {
        "colab": {
          "base_uri": "https://localhost:8080/",
          "height": 330
        },
        "id": "VItgQtaUpQ1A",
        "outputId": "09b95626-5812-4e40-b47c-7b51441f0b14"
      },
      "source": [
        "figure, axis = plt.subplots(1, 2, figsize=(18,5))\r\n",
        "axis = axis.ravel()\r\n",
        "\r\n",
        "for i,element in enumerate(['accuracy', 'loss']):\r\n",
        "    axis[i].plot(history1.history[element])\r\n",
        "    axis[i].plot(history1.history['val_' + element])\r\n",
        "    axis[i].set_title('Model {}'.format(element))\r\n",
        "    axis[i].set_xlabel('epochs')\r\n",
        "    axis[i].set_ylabel(element)\r\n",
        "    axis[i].legend(['train', 'val'])"
      ],
      "execution_count": 10,
      "outputs": [
        {
          "output_type": "display_data",
          "data": {
            "image/png": "[encoded data removed]",
            "text/plain": [
              "<Figure size 1296x360 with 2 Axes>"
            ]
          },
          "metadata": {
            "tags": [],
            "needs_background": "light"
          }
        }
      ]
    },
    {
      "cell_type": "markdown",
      "metadata": {
        "id": "yTEXvV0_0MId"
      },
      "source": [
        "###RESNET"
      ]
    },
    {
      "cell_type": "code",
      "metadata": {
        "id": "6FYM6N9vu2_N",
        "colab": {
          "base_uri": "https://localhost:8080/"
        },
        "outputId": "0df6c214-9acf-4968-b09c-9182e6c080c6"
      },
      "source": [
        "base_model3 = tf.keras.applications.ResNet50(input_shape=(300, 300, 3),include_top=False, weights='imagenet')\r\n",
        "# base_model3.trainable = False\r\n",
        "for layers in base_model3.layers[:100]:\r\n",
        "    layers.trainable = False\r\n",
        "\r\n",
        "model3 = tf.keras.Sequential([\r\n",
        "        base_model3,\r\n",
        "        tf.keras.layers.GlobalAveragePooling2D(),\r\n",
        "#          tf.keras.layers.Flatten(),\r\n",
        "#         tf.keras.layers.Dense(512, activation=tf.nn.relu),\r\n",
        "#          tf.keras.layers.Dropout(0.3),\r\n",
        "#         tf.keras.layers.Dense(512, activation=tf.nn.relu),\r\n",
        "#         tf.keras.layers.Dropout(0.3),\r\n",
        "        tf.keras.layers.Dense(1,activation=tf.nn.sigmoid),\r\n",
        "        ])\r\n",
        "\r\n",
        "model3.compile(loss='binary_crossentropy', optimizer=RMSprop(lr=0.001), metrics = ['accuracy'])\r\n",
        "model3.summary()"
      ],
      "execution_count": 14,
      "outputs": [
        {
          "output_type": "stream",
          "text": [
            "Downloading data from https://storage.googleapis.com/tensorflow/keras-applications/resnet/resnet50_weights_tf_dim_ordering_tf_kernels_notop.h5\n",
            "94773248/94765736 [==============================] - 1s 0us/step\n",
            "Model: \"sequential_2\"\n",
            "_________________________________________________________________\n",
            "Layer (type)                 Output Shape              Param #   \n",
            "=================================================================\n",
            "resnet50 (Functional)        (None, 10, 10, 2048)      23587712  \n",
            "_________________________________________________________________\n",
            "global_average_pooling2d_1 ( (None, 2048)              0         \n",
            "_________________________________________________________________\n",
            "dense_4 (Dense)              (None, 1)                 2049      \n",
            "=================================================================\n",
            "Total params: 23,589,761\n",
            "Trainable params: 19,454,977\n",
            "Non-trainable params: 4,134,784\n",
            "_________________________________________________________________\n"
          ],
          "name": "stdout"
        }
      ]
    },
    {
      "cell_type": "code",
      "metadata": {
        "id": "ebVwWbzy3kK4"
      },
      "source": [
        "checkpoint_cb3= tf.keras.callbacks.ModelCheckpoint(\"model3_resnet.h5\",\r\n",
        "                                                    save_best_only=True)\r\n",
        "\r\n",
        "early_stopping_cb3 = tf.keras.callbacks.EarlyStopping(monitor ='val_loss', patience=20, mode = 'min',restore_best_weights=True)\r\n"
      ],
      "execution_count": 15,
      "outputs": []
    },
    {
      "cell_type": "code",
      "metadata": {
        "id": "6yw7sR8m8so9",
        "colab": {
          "base_uri": "https://localhost:8080/",
          "height": 495
        },
        "outputId": "07acb031-8476-47a2-8827-f3c14de21a10"
      },
      "source": [
        "history3 = model3.fit(\r\n",
        "    training_sett,\r\n",
        "    steps_per_epoch = 10,\r\n",
        "    epochs = epochs,\r\n",
        "    validation_data = test_sett,\r\n",
        "    callbacks = [checkpoint_cb3, early_stopping_cb3] \r\n",
        ")\r\n",
        "\r\n"
      ],
      "execution_count": 16,
      "outputs": [
        {
          "output_type": "stream",
          "text": [
            "Epoch 1/35\n",
            "10/10 [==============================] - 62s 5s/step - loss: 1.7305 - accuracy: 0.5945 - val_loss: 4958.6719 - val_accuracy: 0.6250\n",
            "Epoch 2/35\n",
            " 2/10 [=====>........................] - ETA: 31s - loss: 0.4345 - accuracy: 0.8086"
          ],
          "name": "stdout"
        },
        {
          "output_type": "error",
          "ename": "KeyboardInterrupt",
          "evalue": "ignored",
          "traceback": [
            "\u001b[0;31m---------------------------------------------------------------------------\u001b[0m",
            "\u001b[0;31mKeyboardInterrupt\u001b[0m                         Traceback (most recent call last)",
            "\u001b[0;32m<ipython-input-16-1dec6cf8c4b5>\u001b[0m in \u001b[0;36m<module>\u001b[0;34m()\u001b[0m\n\u001b[1;32m      4\u001b[0m     \u001b[0mepochs\u001b[0m \u001b[0;34m=\u001b[0m \u001b[0mepochs\u001b[0m\u001b[0;34m,\u001b[0m\u001b[0;34m\u001b[0m\u001b[0;34m\u001b[0m\u001b[0m\n\u001b[1;32m      5\u001b[0m     \u001b[0mvalidation_data\u001b[0m \u001b[0;34m=\u001b[0m \u001b[0mtest_sett\u001b[0m\u001b[0;34m,\u001b[0m\u001b[0;34m\u001b[0m\u001b[0;34m\u001b[0m\u001b[0m\n\u001b[0;32m----> 6\u001b[0;31m     \u001b[0mcallbacks\u001b[0m \u001b[0;34m=\u001b[0m \u001b[0;34m[\u001b[0m\u001b[0mcheckpoint_cb3\u001b[0m\u001b[0;34m,\u001b[0m \u001b[0mearly_stopping_cb3\u001b[0m\u001b[0;34m]\u001b[0m\u001b[0;34m\u001b[0m\u001b[0;34m\u001b[0m\u001b[0m\n\u001b[0m\u001b[1;32m      7\u001b[0m )\n\u001b[1;32m      8\u001b[0m \u001b[0;34m\u001b[0m\u001b[0m\n",
            "\u001b[0;32m/usr/local/lib/python3.6/dist-packages/tensorflow/python/keras/engine/training.py\u001b[0m in \u001b[0;36mfit\u001b[0;34m(self, x, y, batch_size, epochs, verbose, callbacks, validation_split, validation_data, shuffle, class_weight, sample_weight, initial_epoch, steps_per_epoch, validation_steps, validation_batch_size, validation_freq, max_queue_size, workers, use_multiprocessing)\u001b[0m\n\u001b[1;32m   1098\u001b[0m                 _r=1):\n\u001b[1;32m   1099\u001b[0m               \u001b[0mcallbacks\u001b[0m\u001b[0;34m.\u001b[0m\u001b[0mon_train_batch_begin\u001b[0m\u001b[0;34m(\u001b[0m\u001b[0mstep\u001b[0m\u001b[0;34m)\u001b[0m\u001b[0;34m\u001b[0m\u001b[0;34m\u001b[0m\u001b[0m\n\u001b[0;32m-> 1100\u001b[0;31m               \u001b[0mtmp_logs\u001b[0m \u001b[0;34m=\u001b[0m \u001b[0mself\u001b[0m\u001b[0;34m.\u001b[0m\u001b[0mtrain_function\u001b[0m\u001b[0;34m(\u001b[0m\u001b[0miterator\u001b[0m\u001b[0;34m)\u001b[0m\u001b[0;34m\u001b[0m\u001b[0;34m\u001b[0m\u001b[0m\n\u001b[0m\u001b[1;32m   1101\u001b[0m               \u001b[0;32mif\u001b[0m \u001b[0mdata_handler\u001b[0m\u001b[0;34m.\u001b[0m\u001b[0mshould_sync\u001b[0m\u001b[0;34m:\u001b[0m\u001b[0;34m\u001b[0m\u001b[0;34m\u001b[0m\u001b[0m\n\u001b[1;32m   1102\u001b[0m                 \u001b[0mcontext\u001b[0m\u001b[0;34m.\u001b[0m\u001b[0masync_wait\u001b[0m\u001b[0;34m(\u001b[0m\u001b[0;34m)\u001b[0m\u001b[0;34m\u001b[0m\u001b[0;34m\u001b[0m\u001b[0m\n",
            "\u001b[0;32m/usr/local/lib/python3.6/dist-packages/tensorflow/python/eager/def_function.py\u001b[0m in \u001b[0;36m__call__\u001b[0;34m(self, *args, **kwds)\u001b[0m\n\u001b[1;32m    826\u001b[0m     \u001b[0mtracing_count\u001b[0m \u001b[0;34m=\u001b[0m \u001b[0mself\u001b[0m\u001b[0;34m.\u001b[0m\u001b[0mexperimental_get_tracing_count\u001b[0m\u001b[0;34m(\u001b[0m\u001b[0;34m)\u001b[0m\u001b[0;34m\u001b[0m\u001b[0;34m\u001b[0m\u001b[0m\n\u001b[1;32m    827\u001b[0m     \u001b[0;32mwith\u001b[0m \u001b[0mtrace\u001b[0m\u001b[0;34m.\u001b[0m\u001b[0mTrace\u001b[0m\u001b[0;34m(\u001b[0m\u001b[0mself\u001b[0m\u001b[0;34m.\u001b[0m\u001b[0m_name\u001b[0m\u001b[0;34m)\u001b[0m \u001b[0;32mas\u001b[0m \u001b[0mtm\u001b[0m\u001b[0;34m:\u001b[0m\u001b[0;34m\u001b[0m\u001b[0;34m\u001b[0m\u001b[0m\n\u001b[0;32m--> 828\u001b[0;31m       \u001b[0mresult\u001b[0m \u001b[0;34m=\u001b[0m \u001b[0mself\u001b[0m\u001b[0;34m.\u001b[0m\u001b[0m_call\u001b[0m\u001b[0;34m(\u001b[0m\u001b[0;34m*\u001b[0m\u001b[0margs\u001b[0m\u001b[0;34m,\u001b[0m \u001b[0;34m**\u001b[0m\u001b[0mkwds\u001b[0m\u001b[0;34m)\u001b[0m\u001b[0;34m\u001b[0m\u001b[0;34m\u001b[0m\u001b[0m\n\u001b[0m\u001b[1;32m    829\u001b[0m       \u001b[0mcompiler\u001b[0m \u001b[0;34m=\u001b[0m \u001b[0;34m\"xla\"\u001b[0m \u001b[0;32mif\u001b[0m \u001b[0mself\u001b[0m\u001b[0;34m.\u001b[0m\u001b[0m_experimental_compile\u001b[0m \u001b[0;32melse\u001b[0m \u001b[0;34m\"nonXla\"\u001b[0m\u001b[0;34m\u001b[0m\u001b[0;34m\u001b[0m\u001b[0m\n\u001b[1;32m    830\u001b[0m       \u001b[0mnew_tracing_count\u001b[0m \u001b[0;34m=\u001b[0m \u001b[0mself\u001b[0m\u001b[0;34m.\u001b[0m\u001b[0mexperimental_get_tracing_count\u001b[0m\u001b[0;34m(\u001b[0m\u001b[0;34m)\u001b[0m\u001b[0;34m\u001b[0m\u001b[0;34m\u001b[0m\u001b[0m\n",
            "\u001b[0;32m/usr/local/lib/python3.6/dist-packages/tensorflow/python/eager/def_function.py\u001b[0m in \u001b[0;36m_call\u001b[0;34m(self, *args, **kwds)\u001b[0m\n\u001b[1;32m    853\u001b[0m       \u001b[0;31m# In this case we have created variables on the first call, so we run the\u001b[0m\u001b[0;34m\u001b[0m\u001b[0;34m\u001b[0m\u001b[0;34m\u001b[0m\u001b[0m\n\u001b[1;32m    854\u001b[0m       \u001b[0;31m# defunned version which is guaranteed to never create variables.\u001b[0m\u001b[0;34m\u001b[0m\u001b[0;34m\u001b[0m\u001b[0;34m\u001b[0m\u001b[0m\n\u001b[0;32m--> 855\u001b[0;31m       \u001b[0;32mreturn\u001b[0m \u001b[0mself\u001b[0m\u001b[0;34m.\u001b[0m\u001b[0m_stateless_fn\u001b[0m\u001b[0;34m(\u001b[0m\u001b[0;34m*\u001b[0m\u001b[0margs\u001b[0m\u001b[0;34m,\u001b[0m \u001b[0;34m**\u001b[0m\u001b[0mkwds\u001b[0m\u001b[0;34m)\u001b[0m  \u001b[0;31m# pylint: disable=not-callable\u001b[0m\u001b[0;34m\u001b[0m\u001b[0;34m\u001b[0m\u001b[0m\n\u001b[0m\u001b[1;32m    856\u001b[0m     \u001b[0;32melif\u001b[0m \u001b[0mself\u001b[0m\u001b[0;34m.\u001b[0m\u001b[0m_stateful_fn\u001b[0m \u001b[0;32mis\u001b[0m \u001b[0;32mnot\u001b[0m \u001b[0;32mNone\u001b[0m\u001b[0;34m:\u001b[0m\u001b[0;34m\u001b[0m\u001b[0;34m\u001b[0m\u001b[0m\n\u001b[1;32m    857\u001b[0m       \u001b[0;31m# Release the lock early so that multiple threads can perform the call\u001b[0m\u001b[0;34m\u001b[0m\u001b[0;34m\u001b[0m\u001b[0;34m\u001b[0m\u001b[0m\n",
            "\u001b[0;32m/usr/local/lib/python3.6/dist-packages/tensorflow/python/eager/function.py\u001b[0m in \u001b[0;36m__call__\u001b[0;34m(self, *args, **kwargs)\u001b[0m\n\u001b[1;32m   2941\u001b[0m        filtered_flat_args) = self._maybe_define_function(args, kwargs)\n\u001b[1;32m   2942\u001b[0m     return graph_function._call_flat(\n\u001b[0;32m-> 2943\u001b[0;31m         filtered_flat_args, captured_inputs=graph_function.captured_inputs)  # pylint: disable=protected-access\n\u001b[0m\u001b[1;32m   2944\u001b[0m \u001b[0;34m\u001b[0m\u001b[0m\n\u001b[1;32m   2945\u001b[0m   \u001b[0;34m@\u001b[0m\u001b[0mproperty\u001b[0m\u001b[0;34m\u001b[0m\u001b[0;34m\u001b[0m\u001b[0m\n",
            "\u001b[0;32m/usr/local/lib/python3.6/dist-packages/tensorflow/python/eager/function.py\u001b[0m in \u001b[0;36m_call_flat\u001b[0;34m(self, args, captured_inputs, cancellation_manager)\u001b[0m\n\u001b[1;32m   1917\u001b[0m       \u001b[0;31m# No tape is watching; skip to running the function.\u001b[0m\u001b[0;34m\u001b[0m\u001b[0;34m\u001b[0m\u001b[0;34m\u001b[0m\u001b[0m\n\u001b[1;32m   1918\u001b[0m       return self._build_call_outputs(self._inference_function.call(\n\u001b[0;32m-> 1919\u001b[0;31m           ctx, args, cancellation_manager=cancellation_manager))\n\u001b[0m\u001b[1;32m   1920\u001b[0m     forward_backward = self._select_forward_and_backward_functions(\n\u001b[1;32m   1921\u001b[0m         \u001b[0margs\u001b[0m\u001b[0;34m,\u001b[0m\u001b[0;34m\u001b[0m\u001b[0;34m\u001b[0m\u001b[0m\n",
            "\u001b[0;32m/usr/local/lib/python3.6/dist-packages/tensorflow/python/eager/function.py\u001b[0m in \u001b[0;36mcall\u001b[0;34m(self, ctx, args, cancellation_manager)\u001b[0m\n\u001b[1;32m    558\u001b[0m               \u001b[0minputs\u001b[0m\u001b[0;34m=\u001b[0m\u001b[0margs\u001b[0m\u001b[0;34m,\u001b[0m\u001b[0;34m\u001b[0m\u001b[0;34m\u001b[0m\u001b[0m\n\u001b[1;32m    559\u001b[0m               \u001b[0mattrs\u001b[0m\u001b[0;34m=\u001b[0m\u001b[0mattrs\u001b[0m\u001b[0;34m,\u001b[0m\u001b[0;34m\u001b[0m\u001b[0;34m\u001b[0m\u001b[0m\n\u001b[0;32m--> 560\u001b[0;31m               ctx=ctx)\n\u001b[0m\u001b[1;32m    561\u001b[0m         \u001b[0;32melse\u001b[0m\u001b[0;34m:\u001b[0m\u001b[0;34m\u001b[0m\u001b[0;34m\u001b[0m\u001b[0m\n\u001b[1;32m    562\u001b[0m           outputs = execute.execute_with_cancellation(\n",
            "\u001b[0;32m/usr/local/lib/python3.6/dist-packages/tensorflow/python/eager/execute.py\u001b[0m in \u001b[0;36mquick_execute\u001b[0;34m(op_name, num_outputs, inputs, attrs, ctx, name)\u001b[0m\n\u001b[1;32m     58\u001b[0m     \u001b[0mctx\u001b[0m\u001b[0;34m.\u001b[0m\u001b[0mensure_initialized\u001b[0m\u001b[0;34m(\u001b[0m\u001b[0;34m)\u001b[0m\u001b[0;34m\u001b[0m\u001b[0;34m\u001b[0m\u001b[0m\n\u001b[1;32m     59\u001b[0m     tensors = pywrap_tfe.TFE_Py_Execute(ctx._handle, device_name, op_name,\n\u001b[0;32m---> 60\u001b[0;31m                                         inputs, attrs, num_outputs)\n\u001b[0m\u001b[1;32m     61\u001b[0m   \u001b[0;32mexcept\u001b[0m \u001b[0mcore\u001b[0m\u001b[0;34m.\u001b[0m\u001b[0m_NotOkStatusException\u001b[0m \u001b[0;32mas\u001b[0m \u001b[0me\u001b[0m\u001b[0;34m:\u001b[0m\u001b[0;34m\u001b[0m\u001b[0;34m\u001b[0m\u001b[0m\n\u001b[1;32m     62\u001b[0m     \u001b[0;32mif\u001b[0m \u001b[0mname\u001b[0m \u001b[0;32mis\u001b[0m \u001b[0;32mnot\u001b[0m \u001b[0;32mNone\u001b[0m\u001b[0;34m:\u001b[0m\u001b[0;34m\u001b[0m\u001b[0;34m\u001b[0m\u001b[0m\n",
            "\u001b[0;31mKeyboardInterrupt\u001b[0m: "
          ]
        }
      ]
    },
    {
      "cell_type": "markdown",
      "metadata": {
        "id": "hUNVCqG5-yu7"
      },
      "source": [
        "###**Visaualisation du modele ResNet**\r\n",
        "\r\n",
        "\r\n",
        "\r\n",
        "\r\n"
      ]
    },
    {
      "cell_type": "code",
      "metadata": {
        "id": "KWJUAwJ6_EZ_"
      },
      "source": [
        "figure, axis = plt.subplots(1, 2, figsize=(18,5))\r\n",
        "axis = axis.ravel()\r\n",
        "\r\n",
        "for i,element in enumerate(['accuracy', 'loss']):\r\n",
        "    axis[i].plot(history3.history[element])\r\n",
        "    axis[i].plot(history3.history['val_' + element])\r\n",
        "    axis[i].set_title('Model {}'.format(element))\r\n",
        "    axis[i].set_xlabel('epochs')\r\n",
        "    axis[i].set_ylabel(element)\r\n",
        "    axis[i].legend(['train', 'val'])"
      ],
      "execution_count": null,
      "outputs": []
    },
    {
      "cell_type": "markdown",
      "metadata": {
        "id": "zTPzzaLop-QO"
      },
      "source": [
        " ### **Inception Net Model**"
      ]
    },
    {
      "cell_type": "code",
      "metadata": {
        "colab": {
          "base_uri": "https://localhost:8080/"
        },
        "id": "l8sgBSjrrlFz",
        "outputId": "1c36db4f-33c9-4b7f-c1f3-2a972cddef1c"
      },
      "source": [
        "base_model2 = tf.keras.applications.InceptionV3(input_shape=(300, 300, 3),include_top=False, weights='imagenet')\r\n",
        "\r\n",
        "for layers in base_model2.layers[:200]:\r\n",
        "    layers.trainable = False\r\n",
        "\r\n",
        "model2 = tf.keras.Sequential([\r\n",
        "        base_model2,\r\n",
        "        tf.keras.layers.GlobalAveragePooling2D(),\r\n",
        "        tf.keras.layers.Dense(1,activation=tf.nn.sigmoid) \r\n",
        "        ])\r\n",
        "\r\n",
        "model2.compile(loss='binary_crossentropy', optimizer=RMSprop(lr=0.001), metrics = ['accuracy'])\r\n",
        "\r\n",
        "model2.summary()"
      ],
      "execution_count": 11,
      "outputs": [
        {
          "output_type": "stream",
          "text": [
            "Downloading data from https://storage.googleapis.com/tensorflow/keras-applications/inception_v3/inception_v3_weights_tf_dim_ordering_tf_kernels_notop.h5\n",
            "87916544/87910968 [==============================] - 1s 0us/step\n",
            "Model: \"sequential_1\"\n",
            "_________________________________________________________________\n",
            "Layer (type)                 Output Shape              Param #   \n",
            "=================================================================\n",
            "inception_v3 (Functional)    (None, 8, 8, 2048)        21802784  \n",
            "_________________________________________________________________\n",
            "global_average_pooling2d (Gl (None, 2048)              0         \n",
            "_________________________________________________________________\n",
            "dense_3 (Dense)              (None, 1)                 2049      \n",
            "=================================================================\n",
            "Total params: 21,804,833\n",
            "Trainable params: 14,806,337\n",
            "Non-trainable params: 6,998,496\n",
            "_________________________________________________________________\n"
          ],
          "name": "stdout"
        }
      ]
    },
    {
      "cell_type": "code",
      "metadata": {
        "id": "_kAIhEzZrrha"
      },
      "source": [
        "checkpoint_cb2 = tf.keras.callbacks.ModelCheckpoint(\"model1_inceptionNet.h5\",\r\n",
        "                                                    save_best_only=True)\r\n",
        "\r\n",
        "early_stopping_cb2 = tf.keras.callbacks.EarlyStopping(monitor ='val_loss', patience=20, mode = 'min',restore_best_weights=True)"
      ],
      "execution_count": 12,
      "outputs": []
    },
    {
      "cell_type": "code",
      "metadata": {
        "colab": {
          "base_uri": "https://localhost:8080/"
        },
        "id": "FD0ovIIzr4m4",
        "outputId": "719215d0-23dc-411f-e461-f630261684d6"
      },
      "source": [
        "history2 = model2.fit(\r\n",
        "    training_sett,\r\n",
        "    steps_per_epoch = 10,\r\n",
        "    epochs = 40,\r\n",
        "    validation_data = test_sett,\r\n",
        "    \r\n",
        "    callbacks = [checkpoint_cb2, early_stopping_cb2]    \r\n",
        ")\r\n"
      ],
      "execution_count": 17,
      "outputs": [
        {
          "output_type": "stream",
          "text": [
            "Epoch 1/40\n",
            "10/10 [==============================] - 47s 5s/step - loss: 0.1052 - accuracy: 0.9672 - val_loss: 35.0759 - val_accuracy: 0.7035\n",
            "Epoch 2/40\n",
            "10/10 [==============================] - 46s 5s/step - loss: 0.0546 - accuracy: 0.9781 - val_loss: 3.7609 - val_accuracy: 0.7468\n",
            "Epoch 3/40\n",
            "10/10 [==============================] - 49s 5s/step - loss: 0.0649 - accuracy: 0.9766 - val_loss: 11.2562 - val_accuracy: 0.7853\n",
            "Epoch 4/40\n",
            "10/10 [==============================] - 48s 5s/step - loss: 0.0750 - accuracy: 0.9688 - val_loss: 78.9656 - val_accuracy: 0.6250\n",
            "Epoch 5/40\n",
            "10/10 [==============================] - 46s 5s/step - loss: 0.0425 - accuracy: 0.9798 - val_loss: 2.6136 - val_accuracy: 0.8526\n",
            "Epoch 6/40\n",
            "10/10 [==============================] - 48s 5s/step - loss: 0.0504 - accuracy: 0.9844 - val_loss: 2.3758 - val_accuracy: 0.7436\n",
            "Epoch 7/40\n",
            "10/10 [==============================] - 48s 5s/step - loss: 0.0403 - accuracy: 0.9828 - val_loss: 0.6997 - val_accuracy: 0.8526\n",
            "Epoch 8/40\n",
            "10/10 [==============================] - 48s 5s/step - loss: 0.0510 - accuracy: 0.9820 - val_loss: 0.5488 - val_accuracy: 0.9279\n",
            "Epoch 9/40\n",
            "10/10 [==============================] - 48s 5s/step - loss: 0.0372 - accuracy: 0.9867 - val_loss: 0.6955 - val_accuracy: 0.8766\n",
            "Epoch 10/40\n",
            "10/10 [==============================] - 48s 5s/step - loss: 0.0356 - accuracy: 0.9859 - val_loss: 0.4479 - val_accuracy: 0.9119\n",
            "Epoch 11/40\n",
            "10/10 [==============================] - 48s 5s/step - loss: 0.0518 - accuracy: 0.9844 - val_loss: 0.2827 - val_accuracy: 0.9247\n",
            "Epoch 12/40\n",
            "10/10 [==============================] - 48s 5s/step - loss: 0.0445 - accuracy: 0.9859 - val_loss: 0.2762 - val_accuracy: 0.9247\n",
            "Epoch 13/40\n",
            "10/10 [==============================] - 48s 5s/step - loss: 0.0458 - accuracy: 0.9773 - val_loss: 0.5904 - val_accuracy: 0.8846\n",
            "Epoch 14/40\n",
            "10/10 [==============================] - 48s 5s/step - loss: 0.0330 - accuracy: 0.9867 - val_loss: 0.4474 - val_accuracy: 0.9327\n",
            "Epoch 15/40\n",
            "10/10 [==============================] - 45s 5s/step - loss: 0.0349 - accuracy: 0.9874 - val_loss: 0.3758 - val_accuracy: 0.9151\n",
            "Epoch 16/40\n",
            "10/10 [==============================] - 48s 5s/step - loss: 0.0536 - accuracy: 0.9797 - val_loss: 0.4255 - val_accuracy: 0.9215\n",
            "Epoch 17/40\n",
            "10/10 [==============================] - 45s 5s/step - loss: 0.0375 - accuracy: 0.9832 - val_loss: 0.8332 - val_accuracy: 0.8622\n",
            "Epoch 18/40\n",
            "10/10 [==============================] - 48s 5s/step - loss: 0.0322 - accuracy: 0.9906 - val_loss: 0.3911 - val_accuracy: 0.9199\n",
            "Epoch 19/40\n",
            "10/10 [==============================] - 48s 5s/step - loss: 0.0370 - accuracy: 0.9891 - val_loss: 0.6032 - val_accuracy: 0.9183\n",
            "Epoch 20/40\n",
            "10/10 [==============================] - 48s 5s/step - loss: 0.0439 - accuracy: 0.9828 - val_loss: 0.7891 - val_accuracy: 0.8718\n",
            "Epoch 21/40\n",
            "10/10 [==============================] - 47s 5s/step - loss: 0.0372 - accuracy: 0.9852 - val_loss: 0.3063 - val_accuracy: 0.9487\n",
            "Epoch 22/40\n",
            "10/10 [==============================] - 44s 4s/step - loss: 0.0297 - accuracy: 0.9916 - val_loss: 0.4242 - val_accuracy: 0.9327\n",
            "Epoch 23/40\n",
            "10/10 [==============================] - 47s 5s/step - loss: 0.0246 - accuracy: 0.9898 - val_loss: 0.4146 - val_accuracy: 0.9199\n",
            "Epoch 24/40\n",
            "10/10 [==============================] - 47s 5s/step - loss: 0.0365 - accuracy: 0.9875 - val_loss: 0.4821 - val_accuracy: 0.9183\n",
            "Epoch 25/40\n",
            "10/10 [==============================] - 48s 5s/step - loss: 0.0375 - accuracy: 0.9883 - val_loss: 0.4726 - val_accuracy: 0.9231\n",
            "Epoch 26/40\n",
            "10/10 [==============================] - 44s 4s/step - loss: 0.0205 - accuracy: 0.9933 - val_loss: 0.4165 - val_accuracy: 0.9199\n",
            "Epoch 27/40\n",
            "10/10 [==============================] - 47s 5s/step - loss: 0.0336 - accuracy: 0.9836 - val_loss: 1.6671 - val_accuracy: 0.7244\n",
            "Epoch 28/40\n",
            "10/10 [==============================] - 47s 5s/step - loss: 0.0171 - accuracy: 0.9953 - val_loss: 0.5452 - val_accuracy: 0.8926\n",
            "Epoch 29/40\n",
            "10/10 [==============================] - 46s 5s/step - loss: 0.0118 - accuracy: 0.9961 - val_loss: 0.4364 - val_accuracy: 0.9071\n",
            "Epoch 30/40\n",
            "10/10 [==============================] - 44s 4s/step - loss: 0.0272 - accuracy: 0.9891 - val_loss: 0.8617 - val_accuracy: 0.8510\n",
            "Epoch 31/40\n",
            "10/10 [==============================] - 44s 4s/step - loss: 0.0160 - accuracy: 0.9941 - val_loss: 0.6389 - val_accuracy: 0.8894\n",
            "Epoch 32/40\n",
            "10/10 [==============================] - 47s 5s/step - loss: 0.0218 - accuracy: 0.9922 - val_loss: 0.3734 - val_accuracy: 0.9215\n"
          ],
          "name": "stdout"
        }
      ]
    },
    {
      "cell_type": "markdown",
      "metadata": {
        "id": "oWTnhiQIpqpL"
      },
      "source": [
        "### Visualisation du modele inception V3 "
      ]
    },
    {
      "cell_type": "markdown",
      "metadata": {
        "id": "PjCIR4AXpqdS"
      },
      "source": [
        ""
      ]
    },
    {
      "cell_type": "code",
      "metadata": {
        "colab": {
          "base_uri": "https://localhost:8080/",
          "height": 330
        },
        "id": "WsVeQZ5HtogQ",
        "outputId": "218a86ab-dfe1-4fe0-f12e-aecbf73cc229"
      },
      "source": [
        "figure, axis = plt.subplots(1, 2, figsize=(18,5))\r\n",
        "axis = axis.ravel()\r\n",
        "\r\n",
        "for i,element in enumerate(['accuracy', 'loss']):\r\n",
        "    axis[i].plot(history2.history[element])\r\n",
        "    axis[i].plot(history2.history['val_' + element])\r\n",
        "    axis[i].set_title('Model {}'.format(element))\r\n",
        "    axis[i].set_xlabel('epochs')\r\n",
        "    axis[i].set_ylabel(element)\r\n",
        "    axis[i].legend(['train', 'val'])"
      ],
      "execution_count": 18,
      "outputs": [
        {
          "output_type": "display_data",
          "data": {
            "image/png": "[encoded data removed]",
            "text/plain": [
              "<Figure size 1296x360 with 2 Axes>"
            ]
          },
          "metadata": {
            "tags": [],
            "needs_background": "light"
          }
        }
      ]
    }
  ]
}